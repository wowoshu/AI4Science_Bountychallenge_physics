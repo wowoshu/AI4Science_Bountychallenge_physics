{
 "cells": [
  {
   "cell_type": "markdown",
   "id": "5e5c4e8c-4262-4d1f-bc92-9119952cf532",
   "metadata": {},
   "source": [
    "# 1. Download, read and pre-process the data of Elasticity"
   ]
  },
  {
   "cell_type": "code",
   "execution_count": null,
   "id": "d9873816-1d00-4482-be98-c2e15b42b37f",
   "metadata": {},
   "outputs": [],
   "source": [
    "# download the database\n",
    "from pymatgen.ext.matproj import MPRester\n",
    "import shelve\n",
    "\n",
    "m = MPRester(\" \") # the API key of your Materials Project account\n",
    "data = m.query(criteria={\"has\": \"elasticity\"}, properties=[\"task_id\", \"pretty_formula\", \"elements\",\"structure\", \"elasticity\"])\n",
    "tempShelf = shelve.open('data_materials_elasticity')\n",
    "tempShelf['data'] = data\n",
    "tempShelf.close()"
   ]
  },
  {
   "cell_type": "code",
   "execution_count": 2,
   "id": "2915dd55-70a4-402d-820a-2ffcfcfac022",
   "metadata": {},
   "outputs": [],
   "source": [
    "# open the database\n",
    "import shelve\n",
    "tempShelf = shelve.open('data_materials_elasticity')\n",
    "data = tempShelf['data']\n",
    "tempShelf.close()"
   ]
  },
  {
   "cell_type": "code",
   "execution_count": 3,
   "id": "6d67bfca-a653-4e5f-869a-af22320785e4",
   "metadata": {},
   "outputs": [],
   "source": [
    "import pandas as pd\n",
    "import numpy as np\n",
    "\n",
    "df = pd.DataFrame(data)\n",
    "#df.to_hdf('data_materials_elasticity.h5',key='df', mode='w')\n",
    "df_el = df['elasticity'].apply(pd.Series)\n",
    "df_full = pd.concat([df[['task_id', 'pretty_formula', 'elements', 'structure']], \n",
    "                     df_el['elastic_tensor'].apply(np.array)], axis=1)\n",
    "df_full_clean = df_full.dropna(axis=0, how='any')\n",
    "# delete Ne,He and Ar which are not crystals\n",
    "df_full_clean = df_full_clean.drop(index=[1065,11663,12669],axis=0)\n",
    "#df_full_clean[df_full_clean['pretty_formula'].str.contains('Ne', case=True)]"
   ]
  },
  {
   "cell_type": "code",
   "execution_count": 15,
   "id": "487d27e9-4533-4a3f-ad68-a4e87a191ebc",
   "metadata": {},
   "outputs": [],
   "source": [
    "# extract the independent components of elastic tensor array\n",
    "mask_1d = np.flatnonzero(np.triu(np.ones((6,6))))\n",
    "el_series_flatten = df_full_clean['elastic_tensor'].apply(np.ravel)\n",
    "el_series_flatten_independent = el_series_flatten.apply(np.take, indices=mask_1d)\n",
    "el_t = el_series_flatten_independent.to_list()\n",
    "el_t_arr = np.array(el_t)\n",
    "el_t_arr.shape"
   ]
  },
  {
   "cell_type": "markdown",
   "id": "e5a89615-f008-4760-aa5c-f29546abd19b",
   "metadata": {},
   "source": [
    "# 2 Models to predicit elastic tensor from composition"
   ]
  },
  {
   "cell_type": "markdown",
   "id": "444ce7f0-2d48-4c43-b8f5-92835d4a262d",
   "metadata": {},
   "source": [
    "## 2.1 generate the dataset"
   ]
  },
  {
   "cell_type": "markdown",
   "id": "d82aad53-3c68-4699-9b13-7fffafcad6a1",
   "metadata": {},
   "source": [
    "### 2.1.1 featurizer ElementPropertyFingerprint(EPF)"
   ]
  },
  {
   "cell_type": "code",
   "execution_count": 22,
   "id": "cb40e1ef-88ca-4c72-b08f-0cc7fd568f81",
   "metadata": {},
   "outputs": [],
   "source": [
    "import pymatgen.core as mg\n",
    "import deepchem as dc\n",
    "\n",
    "# generate the dataset\n",
    "comps = df_full_clean['pretty_formula'].to_list()\n",
    "featurizer_comps = dc.feat.ElementPropertyFingerprint()\n",
    "features_comps = featurizer_comps.featurize(comps)\n",
    "dataset_comps_EPF = dc.data.NumpyDataset(X=features_comps, y=el_t_arr, ids=np.array(comps))"
   ]
  },
  {
   "cell_type": "code",
   "execution_count": 127,
   "id": "7d57a64f-5a19-4f5d-9914-cec95493e64a",
   "metadata": {},
   "outputs": [],
   "source": [
    "splitter = dc.splits.RandomSplitter()\n",
    "train_comps, valid_comps, test_comps = splitter.train_valid_test_split(dataset_comps_EPF, \n",
    "                                                                       frac_train=0.5, \n",
    "                                                                       frac_valid=0.3, \n",
    "                                                                       frac_test=0.2)"
   ]
  },
  {
   "cell_type": "markdown",
   "id": "760b2046-28c7-46f9-85ef-7e74ef1c2b16",
   "metadata": {},
   "source": [
    "### 2.1.2 ElementNetFeaturizer(ENF)"
   ]
  },
  {
   "cell_type": "code",
   "execution_count": null,
   "id": "44041f0f-bfb1-492d-88ed-8b139358a025",
   "metadata": {},
   "outputs": [
    {
     "data": {
      "text/html": [
       "<div>\n",
       "<style scoped>\n",
       "    .dataframe tbody tr th:only-of-type {\n",
       "        vertical-align: middle;\n",
       "    }\n",
       "\n",
       "    .dataframe tbody tr th {\n",
       "        vertical-align: top;\n",
       "    }\n",
       "\n",
       "    .dataframe thead th {\n",
       "        text-align: right;\n",
       "    }\n",
       "</style>\n",
       "<table border=\"1\" class=\"dataframe\">\n",
       "  <thead>\n",
       "    <tr style=\"text-align: right;\">\n",
       "      <th></th>\n",
       "      <th>X1</th>\n",
       "      <th>X2</th>\n",
       "      <th>X3</th>\n",
       "      <th>X4</th>\n",
       "      <th>X5</th>\n",
       "      <th>X6</th>\n",
       "      <th>X7</th>\n",
       "      <th>X8</th>\n",
       "      <th>X9</th>\n",
       "      <th>X10</th>\n",
       "      <th>...</th>\n",
       "      <th>y13</th>\n",
       "      <th>y14</th>\n",
       "      <th>y15</th>\n",
       "      <th>y16</th>\n",
       "      <th>y17</th>\n",
       "      <th>y18</th>\n",
       "      <th>y19</th>\n",
       "      <th>y20</th>\n",
       "      <th>y21</th>\n",
       "      <th>w</th>\n",
       "    </tr>\n",
       "  </thead>\n",
       "  <tbody>\n",
       "    <tr>\n",
       "      <th>count</th>\n",
       "      <td>13169.000000</td>\n",
       "      <td>13169.000000</td>\n",
       "      <td>13169.000000</td>\n",
       "      <td>13169.000000</td>\n",
       "      <td>13169.000000</td>\n",
       "      <td>13169.000000</td>\n",
       "      <td>13169.000000</td>\n",
       "      <td>13169.000000</td>\n",
       "      <td>13169.000000</td>\n",
       "      <td>13169.000000</td>\n",
       "      <td>...</td>\n",
       "      <td>13169.000000</td>\n",
       "      <td>13169.000000</td>\n",
       "      <td>13169.000000</td>\n",
       "      <td>13169.000000</td>\n",
       "      <td>13169.000000</td>\n",
       "      <td>13169.000000</td>\n",
       "      <td>13169.000000</td>\n",
       "      <td>13169.000000</td>\n",
       "      <td>13169.000000</td>\n",
       "      <td>13169.0</td>\n",
       "    </tr>\n",
       "    <tr>\n",
       "      <th>mean</th>\n",
       "      <td>0.010877</td>\n",
       "      <td>0.025867</td>\n",
       "      <td>0.007084</td>\n",
       "      <td>0.014455</td>\n",
       "      <td>0.016887</td>\n",
       "      <td>0.024455</td>\n",
       "      <td>0.093463</td>\n",
       "      <td>0.023184</td>\n",
       "      <td>0.011558</td>\n",
       "      <td>0.022916</td>\n",
       "      <td>...</td>\n",
       "      <td>-0.026881</td>\n",
       "      <td>0.080948</td>\n",
       "      <td>-0.000683</td>\n",
       "      <td>45.173514</td>\n",
       "      <td>-0.003113</td>\n",
       "      <td>0.085048</td>\n",
       "      <td>45.479611</td>\n",
       "      <td>0.008353</td>\n",
       "      <td>47.449465</td>\n",
       "      <td>1.0</td>\n",
       "    </tr>\n",
       "    <tr>\n",
       "      <th>std</th>\n",
       "      <td>0.079178</td>\n",
       "      <td>0.103863</td>\n",
       "      <td>0.063024</td>\n",
       "      <td>0.085411</td>\n",
       "      <td>0.087326</td>\n",
       "      <td>0.104637</td>\n",
       "      <td>0.211518</td>\n",
       "      <td>0.120159</td>\n",
       "      <td>0.068270</td>\n",
       "      <td>0.101790</td>\n",
       "      <td>...</td>\n",
       "      <td>1.767992</td>\n",
       "      <td>3.761694</td>\n",
       "      <td>0.997681</td>\n",
       "      <td>93.781238</td>\n",
       "      <td>0.734338</td>\n",
       "      <td>3.364735</td>\n",
       "      <td>93.905223</td>\n",
       "      <td>4.179441</td>\n",
       "      <td>94.466886</td>\n",
       "      <td>0.0</td>\n",
       "    </tr>\n",
       "    <tr>\n",
       "      <th>min</th>\n",
       "      <td>0.000000</td>\n",
       "      <td>0.000000</td>\n",
       "      <td>0.000000</td>\n",
       "      <td>0.000000</td>\n",
       "      <td>0.000000</td>\n",
       "      <td>0.000000</td>\n",
       "      <td>0.000000</td>\n",
       "      <td>0.000000</td>\n",
       "      <td>0.000000</td>\n",
       "      <td>0.000000</td>\n",
       "      <td>...</td>\n",
       "      <td>-106.000000</td>\n",
       "      <td>-99.000000</td>\n",
       "      <td>-37.000000</td>\n",
       "      <td>-7750.000000</td>\n",
       "      <td>-24.000000</td>\n",
       "      <td>-58.000000</td>\n",
       "      <td>-7750.000000</td>\n",
       "      <td>-142.000000</td>\n",
       "      <td>-7750.000000</td>\n",
       "      <td>1.0</td>\n",
       "    </tr>\n",
       "    <tr>\n",
       "      <th>25%</th>\n",
       "      <td>0.000000</td>\n",
       "      <td>0.000000</td>\n",
       "      <td>0.000000</td>\n",
       "      <td>0.000000</td>\n",
       "      <td>0.000000</td>\n",
       "      <td>0.000000</td>\n",
       "      <td>0.000000</td>\n",
       "      <td>0.000000</td>\n",
       "      <td>0.000000</td>\n",
       "      <td>0.000000</td>\n",
       "      <td>...</td>\n",
       "      <td>0.000000</td>\n",
       "      <td>0.000000</td>\n",
       "      <td>0.000000</td>\n",
       "      <td>17.000000</td>\n",
       "      <td>0.000000</td>\n",
       "      <td>0.000000</td>\n",
       "      <td>17.000000</td>\n",
       "      <td>0.000000</td>\n",
       "      <td>19.000000</td>\n",
       "      <td>1.0</td>\n",
       "    </tr>\n",
       "    <tr>\n",
       "      <th>50%</th>\n",
       "      <td>0.000000</td>\n",
       "      <td>0.000000</td>\n",
       "      <td>0.000000</td>\n",
       "      <td>0.000000</td>\n",
       "      <td>0.000000</td>\n",
       "      <td>0.000000</td>\n",
       "      <td>0.000000</td>\n",
       "      <td>0.000000</td>\n",
       "      <td>0.000000</td>\n",
       "      <td>0.000000</td>\n",
       "      <td>...</td>\n",
       "      <td>0.000000</td>\n",
       "      <td>0.000000</td>\n",
       "      <td>0.000000</td>\n",
       "      <td>37.000000</td>\n",
       "      <td>0.000000</td>\n",
       "      <td>0.000000</td>\n",
       "      <td>37.000000</td>\n",
       "      <td>0.000000</td>\n",
       "      <td>40.000000</td>\n",
       "      <td>1.0</td>\n",
       "    </tr>\n",
       "    <tr>\n",
       "      <th>75%</th>\n",
       "      <td>0.000000</td>\n",
       "      <td>0.000000</td>\n",
       "      <td>0.000000</td>\n",
       "      <td>0.000000</td>\n",
       "      <td>0.000000</td>\n",
       "      <td>0.000000</td>\n",
       "      <td>0.000000</td>\n",
       "      <td>0.000000</td>\n",
       "      <td>0.000000</td>\n",
       "      <td>0.000000</td>\n",
       "      <td>...</td>\n",
       "      <td>0.000000</td>\n",
       "      <td>0.000000</td>\n",
       "      <td>0.000000</td>\n",
       "      <td>68.000000</td>\n",
       "      <td>0.000000</td>\n",
       "      <td>0.000000</td>\n",
       "      <td>68.000000</td>\n",
       "      <td>0.000000</td>\n",
       "      <td>70.000000</td>\n",
       "      <td>1.0</td>\n",
       "    </tr>\n",
       "    <tr>\n",
       "      <th>max</th>\n",
       "      <td>1.000000</td>\n",
       "      <td>1.000000</td>\n",
       "      <td>1.000000</td>\n",
       "      <td>1.000000</td>\n",
       "      <td>1.000000</td>\n",
       "      <td>1.000000</td>\n",
       "      <td>1.000000</td>\n",
       "      <td>1.000000</td>\n",
       "      <td>1.000000</td>\n",
       "      <td>1.000000</td>\n",
       "      <td>...</td>\n",
       "      <td>33.000000</td>\n",
       "      <td>84.000000</td>\n",
       "      <td>47.000000</td>\n",
       "      <td>3302.000000</td>\n",
       "      <td>24.000000</td>\n",
       "      <td>204.000000</td>\n",
       "      <td>3302.000000</td>\n",
       "      <td>102.000000</td>\n",
       "      <td>3302.000000</td>\n",
       "      <td>1.0</td>\n",
       "    </tr>\n",
       "  </tbody>\n",
       "</table>\n",
       "<p>8 rows × 108 columns</p>\n",
       "</div>"
      ],
      "text/plain": [
       "                 X1            X2            X3            X4            X5  \\\n",
       "count  13169.000000  13169.000000  13169.000000  13169.000000  13169.000000   \n",
       "mean       0.010877      0.025867      0.007084      0.014455      0.016887   \n",
       "std        0.079178      0.103863      0.063024      0.085411      0.087326   \n",
       "min        0.000000      0.000000      0.000000      0.000000      0.000000   \n",
       "25%        0.000000      0.000000      0.000000      0.000000      0.000000   \n",
       "50%        0.000000      0.000000      0.000000      0.000000      0.000000   \n",
       "75%        0.000000      0.000000      0.000000      0.000000      0.000000   \n",
       "max        1.000000      1.000000      1.000000      1.000000      1.000000   \n",
       "\n",
       "                 X6            X7            X8            X9           X10  \\\n",
       "count  13169.000000  13169.000000  13169.000000  13169.000000  13169.000000   \n",
       "mean       0.024455      0.093463      0.023184      0.011558      0.022916   \n",
       "std        0.104637      0.211518      0.120159      0.068270      0.101790   \n",
       "min        0.000000      0.000000      0.000000      0.000000      0.000000   \n",
       "25%        0.000000      0.000000      0.000000      0.000000      0.000000   \n",
       "50%        0.000000      0.000000      0.000000      0.000000      0.000000   \n",
       "75%        0.000000      0.000000      0.000000      0.000000      0.000000   \n",
       "max        1.000000      1.000000      1.000000      1.000000      1.000000   \n",
       "\n",
       "       ...           y13           y14           y15           y16  \\\n",
       "count  ...  13169.000000  13169.000000  13169.000000  13169.000000   \n",
       "mean   ...     -0.026881      0.080948     -0.000683     45.173514   \n",
       "std    ...      1.767992      3.761694      0.997681     93.781238   \n",
       "min    ...   -106.000000    -99.000000    -37.000000  -7750.000000   \n",
       "25%    ...      0.000000      0.000000      0.000000     17.000000   \n",
       "50%    ...      0.000000      0.000000      0.000000     37.000000   \n",
       "75%    ...      0.000000      0.000000      0.000000     68.000000   \n",
       "max    ...     33.000000     84.000000     47.000000   3302.000000   \n",
       "\n",
       "                y17           y18           y19           y20           y21  \\\n",
       "count  13169.000000  13169.000000  13169.000000  13169.000000  13169.000000   \n",
       "mean      -0.003113      0.085048     45.479611      0.008353     47.449465   \n",
       "std        0.734338      3.364735     93.905223      4.179441     94.466886   \n",
       "min      -24.000000    -58.000000  -7750.000000   -142.000000  -7750.000000   \n",
       "25%        0.000000      0.000000     17.000000      0.000000     19.000000   \n",
       "50%        0.000000      0.000000     37.000000      0.000000     40.000000   \n",
       "75%        0.000000      0.000000     68.000000      0.000000     70.000000   \n",
       "max       24.000000    204.000000   3302.000000    102.000000   3302.000000   \n",
       "\n",
       "             w  \n",
       "count  13169.0  \n",
       "mean       1.0  \n",
       "std        0.0  \n",
       "min        1.0  \n",
       "25%        1.0  \n",
       "50%        1.0  \n",
       "75%        1.0  \n",
       "max        1.0  \n",
       "\n",
       "[8 rows x 108 columns]"
      ]
     },
     "execution_count": 98,
     "metadata": {},
     "output_type": "execute_result"
    }
   ],
   "source": [
    "featurizer_comps = dc.feat.ElemNetFeaturizer()\n",
    "features_comps = featurizer_comps.featurize(comps)\n",
    "features_comps.shape\n",
    "#np.isnan(features_comps).any()\n",
    "dataset_comps_ENF = dc.data.NumpyDataset(X=features_comps, y=el_t_arr, ids=np.array(comps))\n",
    "dataset_comps_ENF.to_dataframe().describe()  "
   ]
  },
  {
   "cell_type": "code",
   "execution_count": 84,
   "id": "83f75c7b-1bfc-4e6b-96ac-3dab7dc379e5",
   "metadata": {},
   "outputs": [],
   "source": [
    "splitter = dc.splits.RandomSplitter()\n",
    "train_comps, valid_comps, test_comps = splitter.train_valid_test_split(dataset_comps_ENF, \n",
    "                                                                       frac_train=0.8, \n",
    "                                                                       frac_valid=0.1, \n",
    "                                                                       frac_test=0.1)"
   ]
  },
  {
   "cell_type": "markdown",
   "id": "d180fe80-0daf-4cb9-96e9-9c500b44b754",
   "metadata": {},
   "source": [
    "## 2.2 Build, train and evaluate the model"
   ]
  },
  {
   "cell_type": "code",
   "execution_count": 93,
   "id": "2a4a816c-0996-4332-b2d1-44759f9fcaf6",
   "metadata": {},
   "outputs": [],
   "source": [
    "import torch\n",
    "\n",
    "pytorch_model = torch.nn.Sequential(\n",
    "    torch.nn.Linear(65, 65),\n",
    "    torch.nn.Tanh(),\n",
    "    torch.nn.Linear(65, 32),\n",
    "    torch.nn.Tanh(),\n",
    "    torch.nn.Linear(32, 21)\n",
    ")\n",
    "model = dc.models.TorchModel(pytorch_model, dc.models.losses.L2Loss(),batch_size=100,learning_rate=0.0005)\n",
    "metric = dc.metrics.Metric(dc.metrics.mean_squared_error)\n",
    "model.fit(train_comps, nb_epoch=200)\n",
    "print('training set score:', model.evaluate(train_comps, [metric],per_task_metrics=True))\n",
    "print('test set score:', model.evaluate(test_comps, [metric]))"
   ]
  },
  {
   "cell_type": "code",
   "execution_count": 90,
   "id": "bbff3ae9-c860-4a64-a793-3e68ccc11394",
   "metadata": {},
   "outputs": [
    {
     "data": {
      "image/png": "[encoded data removed]",
      "text/plain": [
       "<Figure size 432x288 with 1 Axes>"
      ]
     },
     "metadata": {
      "needs_background": "light"
     },
     "output_type": "display_data"
    }
   ],
   "source": [
    "# plot the loss-Epoch\n",
    "import matplotlib.pyplot as plt\n",
    "\n",
    "epoch_list = np.linspace(1,num_epochs,num_epochs)\n",
    "plt.plot(epoch_list, \n",
    "         train_loss, \n",
    "         '-', \n",
    "         label = 'train_loss')\n",
    "plt.plot(epoch_list, \n",
    "         test_loss, \n",
    "         '-', \n",
    "         label = 'test_loss')\n",
    "plt.xlabel('Epoch')\n",
    "plt.ylabel('MSE Loss')\n",
    "plt.title('Loss(ENF featurzier)')\n",
    "plt.legend()\n",
    "plt.savefig('ENF1.jpg')"
   ]
  },
  {
   "cell_type": "code",
   "execution_count": 92,
   "id": "a1c5ba40-68d4-4d32-8b75-1dc06f11b13f",
   "metadata": {},
   "outputs": [],
   "source": [
    "import matplotlib.pyplot as plt\n",
    "\n",
    "with torch.no_grad():\n",
    "    Y_pred = m(X_test).numpy()\n",
    "Y_true = Y_test.numpy()\n",
    "\n",
    "for i in range(22):\n",
    "    Y_bar = np.mean(Y_true[:,i])\n",
    "    R_2 = 1 - np.sum((Y_true[:,i] - Y_pred[:,i])**2) / np.sum((Y_true[:,i] - Y_bar)**2)\n",
    "    plt.plot(Y_true[:, i], Y_pred[:, i], '.')\n",
    "    plt.plot(Y_true[:, i], Y_true[:, i], '-')\n",
    "    plt.xlabel('true')\n",
    "    plt.ylabel('predicted')\n",
    "    plt.title(f'Y{i+1}, R^2={R_2:.4f}')\n",
    "    plt.savefig(f'results/Elasticity_EPF/Y{i+1}')\n",
    "    plt.show()"
   ]
  },
  {
   "cell_type": "markdown",
   "id": "5e27abef-6e69-498e-907d-ec6124455d0d",
   "metadata": {},
   "source": [
    "# 3. construct a model for crystal structure and composition(CGCNN)"
   ]
  },
  {
   "cell_type": "markdown",
   "id": "764f44ca-3a57-44d5-bd02-4c592587a054",
   "metadata": {},
   "source": [
    "## 3.1 generate the dataset"
   ]
  },
  {
   "cell_type": "code",
   "execution_count": null,
   "id": "29f8f98a-fdac-4643-a3b2-27973631a5b4",
   "metadata": {},
   "outputs": [],
   "source": [
    "featurizer_struct = dc.feat.CGCNNFeaturizer()\n",
    "struct_list = df_full_clean['structure'].to_list()\n",
    "features_struct = featurizer_struct.featurize(struct_list)\n",
    "dataset_struct_CG = dc.data.NumpyDataset(X=features_struct, y=el_t_arr, ids=np.array(comps))"
   ]
  },
  {
   "cell_type": "code",
   "execution_count": 164,
   "id": "b46f1c56-ccf6-45e3-9615-647c8d6109c1",
   "metadata": {},
   "outputs": [],
   "source": [
    "#transform the dataset\n",
    "#transformer = []\n",
    "#transformer = dc.trans.NormalizationTransformer(transform_y=True,dataset = dataset_struct_CG)\n",
    "#transformer = dc.trans.MinMaxTransformer(transform_y=True, dataset = dataset_struct_CG)\n",
    "#dataset_struct_CG = transformer.transform(dataset_struct_CG)\n",
    "\n",
    "#split the dataset\n",
    "train_struct, valid_struct, test_struct = splitter.train_valid_test_split(dataset_struct_CG, \n",
    "                                                                          frac_train=0.6,\n",
    "                                                                          frac_valid=0.3,\n",
    "                                                                          frac_test=0.1)"
   ]
  },
  {
   "cell_type": "markdown",
   "id": "ab61bf8d-c884-43df-9f52-da1d21f2e966",
   "metadata": {},
   "source": [
    "## 3.2 Build, train and evaluate the model"
   ]
  },
  {
   "cell_type": "code",
   "execution_count": 167,
   "id": "a2df21c5-f8fc-4eb5-bf97-14d14f294d5d",
   "metadata": {},
   "outputs": [],
   "source": [
    "model = dc.models.CGCNNModel(mode='regression', n_tasks=21, batch_size=32, learning_rate=0.001)\n",
    "\n",
    "#train the model\n",
    "\n",
    "train_loss = []\n",
    "valid_loss = []\n",
    "\n",
    "#metric = dc.metrics.Metric(dc.metrics.r2_score)\n",
    "metric = dc.metrics.Metric(dc.metrics.mean_squared_error)\n",
    "for i in range(10):\n",
    "    model.fit(train_struct, nb_epoch=1)\n",
    "\n",
    "#evaluate the model\n",
    "    train_loss.append(model.evaluate(train_struct, [metric])['mean_squared_error'])\n",
    "    valid_loss.append(model.evaluate(valid_struct, [metric])['mean_squared_error'])\n",
    "    print(\"Train loss:\", model.evaluate(train_struct, [metric]))\n",
    "    print(\"Valid loss:\", model.evaluate(valid_struct, [metric]))\n",
    "   "
   ]
  },
  {
   "cell_type": "code",
   "execution_count": 158,
   "id": "ee4358c2-5458-4801-801f-7c91671b9b1e",
   "metadata": {},
   "outputs": [
    {
     "data": {
      "image/png": "[encoded data removed]",
      "text/plain": [
       "<Figure size 432x288 with 1 Axes>"
      ]
     },
     "metadata": {
      "needs_background": "light"
     },
     "output_type": "display_data"
    }
   ],
   "source": [
    "# plot loss-Epoch\n",
    "epoch_list = np.linspace(1,10,10)\n",
    "plt.plot(epoch_list, \n",
    "         train_loss, \n",
    "         '-', \n",
    "         label = 'train_loss')\n",
    "plt.plot(epoch_list, \n",
    "         valid_loss, \n",
    "         '-', \n",
    "         label = 'valid_loss')\n",
    "plt.xlabel('Epoch')\n",
    "plt.ylabel('r2_score')\n",
    "plt.title('Stifness tensor-CGCNN model')\n",
    "plt.legend()\n",
    "plt.savefig('CGCNN3.jpg')"
   ]
  },
  {
   "cell_type": "code",
   "execution_count": 126,
   "id": "36dd1fbc-9157-49ff-b363-1368c77ce7b7",
   "metadata": {},
   "outputs": [
    {
     "ename": "TypeError",
     "evalue": "'NormalizationTransformer' object is not iterable",
     "output_type": "error",
     "traceback": [
      "\u001b[0;31m---------------------------------------------------------------------------\u001b[0m",
      "\u001b[0;31mTypeError\u001b[0m                                 Traceback (most recent call last)",
      "\u001b[0;32m/var/folders/yc/s3fn__mx7sb9h_14_tbj8zf80000gn/T/ipykernel_6005/2770217766.py\u001b[0m in \u001b[0;36m<module>\u001b[0;34m\u001b[0m\n\u001b[0;32m----> 1\u001b[0;31m \u001b[0me\u001b[0m \u001b[0;34m=\u001b[0m \u001b[0mmodel\u001b[0m\u001b[0;34m.\u001b[0m\u001b[0mevaluate\u001b[0m\u001b[0;34m(\u001b[0m\u001b[0mtest_struct\u001b[0m\u001b[0;34m,\u001b[0m \u001b[0;34m[\u001b[0m\u001b[0mmetric\u001b[0m\u001b[0;34m]\u001b[0m\u001b[0;34m,\u001b[0m \u001b[0mtransformers\u001b[0m\u001b[0;34m,\u001b[0m \u001b[0mper_task_metrics\u001b[0m \u001b[0;34m=\u001b[0m \u001b[0;32mTrue\u001b[0m\u001b[0;34m)\u001b[0m\u001b[0;34m\u001b[0m\u001b[0;34m\u001b[0m\u001b[0m\n\u001b[0m\u001b[1;32m      2\u001b[0m \u001b[0mMSE_dic\u001b[0m \u001b[0;34m=\u001b[0m \u001b[0me\u001b[0m\u001b[0;34m[\u001b[0m\u001b[0;36m1\u001b[0m\u001b[0;34m]\u001b[0m\u001b[0;34m\u001b[0m\u001b[0;34m\u001b[0m\u001b[0m\n\u001b[1;32m      3\u001b[0m \u001b[0mMSE_test\u001b[0m \u001b[0;34m=\u001b[0m \u001b[0mMSE_dic\u001b[0m\u001b[0;34m[\u001b[0m\u001b[0;34m'mean_squared_error'\u001b[0m\u001b[0;34m]\u001b[0m\u001b[0;34m\u001b[0m\u001b[0;34m\u001b[0m\u001b[0m\n\u001b[1;32m      4\u001b[0m \u001b[0;34m\u001b[0m\u001b[0m\n\u001b[1;32m      5\u001b[0m \u001b[0mY_true\u001b[0m \u001b[0;34m=\u001b[0m \u001b[0mtest_struct\u001b[0m\u001b[0;34m.\u001b[0m\u001b[0my\u001b[0m\u001b[0;34m\u001b[0m\u001b[0;34m\u001b[0m\u001b[0m\n",
      "\u001b[0;32m~/opt/anaconda3/envs/DeepChem/lib/python3.7/site-packages/deepchem/models/models.py\u001b[0m in \u001b[0;36mevaluate\u001b[0;34m(self, dataset, metrics, transformers, per_task_metrics, use_sample_weights, n_classes)\u001b[0m\n\u001b[1;32m    212\u001b[0m       \u001b[0mseparately\u001b[0m\u001b[0;34m.\u001b[0m\u001b[0;34m\u001b[0m\u001b[0;34m\u001b[0m\u001b[0m\n\u001b[1;32m    213\u001b[0m     \"\"\"\n\u001b[0;32m--> 214\u001b[0;31m     \u001b[0mevaluator\u001b[0m \u001b[0;34m=\u001b[0m \u001b[0mEvaluator\u001b[0m\u001b[0;34m(\u001b[0m\u001b[0mself\u001b[0m\u001b[0;34m,\u001b[0m \u001b[0mdataset\u001b[0m\u001b[0;34m,\u001b[0m \u001b[0mtransformers\u001b[0m\u001b[0;34m)\u001b[0m\u001b[0;34m\u001b[0m\u001b[0;34m\u001b[0m\u001b[0m\n\u001b[0m\u001b[1;32m    215\u001b[0m     return evaluator.compute_model_performance(\n\u001b[1;32m    216\u001b[0m         \u001b[0mmetrics\u001b[0m\u001b[0;34m,\u001b[0m\u001b[0;34m\u001b[0m\u001b[0;34m\u001b[0m\u001b[0m\n",
      "\u001b[0;32m~/opt/anaconda3/envs/DeepChem/lib/python3.7/site-packages/deepchem/utils/evaluate.py\u001b[0m in \u001b[0;36m__init__\u001b[0;34m(self, model, dataset, transformers)\u001b[0m\n\u001b[1;32m    192\u001b[0m     \u001b[0mself\u001b[0m\u001b[0;34m.\u001b[0m\u001b[0mdataset\u001b[0m \u001b[0;34m=\u001b[0m \u001b[0mdataset\u001b[0m\u001b[0;34m\u001b[0m\u001b[0;34m\u001b[0m\u001b[0m\n\u001b[1;32m    193\u001b[0m     self.output_transformers = [\n\u001b[0;32m--> 194\u001b[0;31m         \u001b[0mtransformer\u001b[0m \u001b[0;32mfor\u001b[0m \u001b[0mtransformer\u001b[0m \u001b[0;32min\u001b[0m \u001b[0mtransformers\u001b[0m \u001b[0;32mif\u001b[0m \u001b[0mtransformer\u001b[0m\u001b[0;34m.\u001b[0m\u001b[0mtransform_y\u001b[0m\u001b[0;34m\u001b[0m\u001b[0;34m\u001b[0m\u001b[0m\n\u001b[0m\u001b[1;32m    195\u001b[0m     ]\n\u001b[1;32m    196\u001b[0m \u001b[0;34m\u001b[0m\u001b[0m\n",
      "\u001b[0;31mTypeError\u001b[0m: 'NormalizationTransformer' object is not iterable"
     ]
    }
   ],
   "source": [
    "Y_true = test_struct.y\n",
    "Y_pred = model.predict(test_struct)\n",
    "\n",
    "for i in range(21):\n",
    "    Y_bar = np.mean(Y_true[:,i])\n",
    "    R_2 = 1-np.sum((Y_true[:,i] - Y_pred[:,i])**2) / np.sum((Y_true[:,i] - Y_bar)**2)\n",
    "    plt.plot(Y_true[:, i], Y_pred[:, i], '.')\n",
    "    plt.plot(Y_true[:, i], Y_true[:, i], '-')\n",
    "    plt.xlabel('true')\n",
    "    plt.ylabel('predicted')\n",
    "    plt.title(f'y{i+1}, R^2={R_2:.4f}, MSE={MSE:.4f}')\n",
    "    plt.savefig(f'results/Elasticity_CGCNN/y{i+1}')\n",
    "    plt.show()"
   ]
  },
  {
   "cell_type": "code",
   "execution_count": null,
   "id": "d76f1958-6fd1-4388-a70d-7007471d138d",
   "metadata": {},
   "outputs": [],
   "source": []
  }
 ],
 "metadata": {
  "kernelspec": {
   "display_name": "Python 3 (ipykernel)",
   "language": "python",
   "name": "python3"
  },
  "language_info": {
   "codemirror_mode": {
    "name": "ipython",
    "version": 3
   },
   "file_extension": ".py",
   "mimetype": "text/x-python",
   "name": "python",
   "nbconvert_exporter": "python",
   "pygments_lexer": "ipython3",
   "version": "3.7.12"
  }
 },
 "nbformat": 4,
 "nbformat_minor": 5
}
